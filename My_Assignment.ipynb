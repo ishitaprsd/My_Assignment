# -*- coding: utf-8 -*-
"""
Created on Mon Mar  1 18:29:34 2021

@author: ishita
"""

import pandas as pd
import matplotlib.pyplot as plt
import numpy as np
import seaborn as sns
from sklearn.pipeline import Pipeline
from sklearn.preprocessing import StandardScaler,PolynomialFeatures
%matplotlib inline
import matplotlib.pyplot as plt
from sklearn.linear_model import LinearRegression
